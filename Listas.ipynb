{
 "cells": [
  {
   "cell_type": "markdown",
   "id": "d2f941c3-5949-4054-ae38-f8a7a9901362",
   "metadata": {
    "editable": true,
    "slideshow": {
     "slide_type": ""
    },
    "tags": []
   },
   "source": [
    "# Tema: Lista como estructura de datos en Python\n",
    "|Concepto|Descripción|\n",
    "|-:|:-|\n",
    "|Objetivo General:|Comprender el concepto, operaciones básicas y aplicaciones de las listas como estructura de datos, para resolver problemas algorítmicos básicos, con el uso de Python.|\n",
    "|Objetivos específicos:|**Definir una lista**| \n",
    "| |**Identificar las operaciones básicas de una lista (creación, inserción, eliminación, acceso).**|\n",
    "| |**Implementar los métodos integrados en listas (append(), remove(), slice, etc.).**|\n",
    "| |**Resolver problemas prácticos con listas (ej: filtrado, ordenamiento, búsqueda).**|\n",
    "|Estrategia de Aprendizaje:|Aprendizaje activo y enseñanza basada en problemas.|\n",
    "|Técnica Instruccional:|Demostración guiada y práctica dirigida.|"
   ]
  },
  {
   "attachments": {},
   "cell_type": "markdown",
   "id": "aac8cce9-b1df-49a9-97b7-1babaf5d30c6",
   "metadata": {
    "editable": true,
    "slideshow": {
     "slide_type": ""
    },
    "tags": []
   },
   "source": [
    "## Definición de una lista\n",
    "Una lista **(también denominadas array o arreglos en otros lenguajes como C)** es una estructura de datos lineal y ordenada que almacena elementos de manera secuencial, permitiendo duplicados y acceso posicional **utilizando un índice** , sus características principales son:\n",
    "\n",
    "+ **Mutabilidad:** Los elementos pueden modificarse después de su creación.\n",
    "+ **Dinamismo:** Su tamaño se ajusta automáticamente al añadir/eliminar elementos.\n",
    "+ **Heterogeneidad:** Puede contener elementos de distintos tipos de datos (enteros, strings, etc.).\n",
    "+ **Indexación:** Acceso a elementos mediante índices (comienza en **0** para el primer elemento).\n",
    "\n",
    "<div style=\"text-align: center;\"><img src=\"imagenes notebooks\\listas\\Listas.jpg\" style=\"width:50%; height:auto;\" alt=\"Listas en Python\"></div>"
   ]
  },
  {
   "attachments": {},
   "cell_type": "markdown",
   "id": "807bfc48-9d00-4627-bbbb-4fdc0961f9b0",
   "metadata": {
    "editable": true,
    "slideshow": {
     "slide_type": ""
    },
    "tags": []
   },
   "source": [
    "### Actividad\n",
    "¿Han usado algo similar a un lista en su día a día?"
   ]
  },
  {
   "cell_type": "markdown",
   "id": "f7e96c77-b4ce-40bf-b26e-277704105d21",
   "metadata": {
    "editable": true,
    "slideshow": {
     "slide_type": ""
    },
    "tags": []
   },
   "source": [
    "\n",
    "## Operaciones básicas con listas\n",
    "### Crear una lista"
   ]
  },
  {
   "cell_type": "code",
   "execution_count": null,
   "id": "b56fe6f5-49fc-417c-a84b-d80cdb49c569",
   "metadata": {
    "editable": true,
    "slideshow": {
     "slide_type": ""
    },
    "tags": []
   },
   "outputs": [],
   "source": [
    "# Lista vacía  \n",
    "lista_vacia = []  \n",
    "\n",
    "# Lista con elementos  \n",
    "lista_numeros = [1, 2, 3, 4, 5]  \n",
    "lista_mezcla = [10, \"Python\", True, 3.14]  \n",
    "\n",
    "# Usando list()  \n",
    "lista_rango = list(range(1, 8)) "
   ]
  },
  {
   "cell_type": "code",
   "execution_count": null,
   "id": "90e1c2b1-ead5-4f8a-b52c-7d05bc443476",
   "metadata": {},
   "outputs": [],
   "source": [
    "print(lista_mezcla)"
   ]
  },
  {
   "cell_type": "code",
   "execution_count": null,
   "id": "b863f0a3-26e0-4834-8749-f437ff48084b",
   "metadata": {},
   "outputs": [],
   "source": [
    "# La función range devuelve como resultado una secuencia de números,\n",
    "# cuenta con tres parametros range(start, stop, step). Solo el parámetro\n",
    "# stop no es opcional, y en conjunto de la instrucción list podemos poblar\n",
    "# nuestra lista\n",
    "\n",
    "print(list(range(8)))"
   ]
  },
  {
   "cell_type": "markdown",
   "id": "3ba77894-6bf9-452e-a722-875435f1f241",
   "metadata": {},
   "source": [
    "\n",
    "### Acceso a elementos por medio del índice:"
   ]
  },
  {
   "cell_type": "code",
   "execution_count": null,
   "id": "d0109af7-164e-4d34-8d7a-a54856f6d8bc",
   "metadata": {},
   "outputs": [],
   "source": [
    "# Ahora vamos a crear la lista de frutas\n",
    "lista_frutas = [\"manzana\", \"platano\", \"mango\", \"coco\"] \n",
    "\n",
    "# Recordando que el índice de las listas comienza en 0 vamos a acceder al \n",
    "# elemento que se encuentra en la posición 1\n",
    "print(lista_frutas[1])"
   ]
  },
  {
   "cell_type": "code",
   "execution_count": null,
   "id": "baef24c7-21a8-4d66-a07a-673492e2ce85",
   "metadata": {},
   "outputs": [],
   "source": [
    "# Se puede también acceder al último elemento usando el índice [-1] es el último elemento\n",
    "# [-2] es el penúltimo elemento.\n",
    "print(lista_frutas[-1])"
   ]
  },
  {
   "cell_type": "markdown",
   "id": "571d0eff-eb69-483e-b5ae-6915e6ff240a",
   "metadata": {},
   "source": [
    "### Obteniendo un slice (sublista) de una lista:"
   ]
  },
  {
   "cell_type": "code",
   "execution_count": null,
   "id": "c163b055-3e4c-4960-a5eb-f824a10bb156",
   "metadata": {},
   "outputs": [],
   "source": [
    "# Queremos crear un slice de la lista_numeros ya definida\n",
    "# lista_numeros = [1, 2, 3, 4, 5]\n",
    "sublista_numeros = lista_numeros[1:4] #Para ello debemos de usar : entre corchetes, indicando a la izquierda el valor de inicio, \n",
    "                                      #y a la izquierda el valor final que no está incluido.\n",
    "print (sublista_numeros)"
   ]
  },
  {
   "cell_type": "markdown",
   "id": "e9b9792b-0a3b-43a8-8361-e4dd5bd64db1",
   "metadata": {},
   "source": [
    "### Lóngitud de una lista"
   ]
  },
  {
   "cell_type": "code",
   "execution_count": null,
   "id": "cff839c6-e1f4-4ed2-b57d-74173dfecef9",
   "metadata": {},
   "outputs": [],
   "source": [
    "# Por medio de la instrucción python len() se obtiene la longitud de un alista\n",
    "print(len(lista_frutas))"
   ]
  },
  {
   "cell_type": "markdown",
   "id": "2cfd936d-2b76-45f0-8bd8-cba1f7f495da",
   "metadata": {},
   "source": [
    "### Modificar un elemento de la lista"
   ]
  },
  {
   "cell_type": "code",
   "execution_count": null,
   "id": "fe77df69-dbce-4d60-9fe9-7f3467b3346b",
   "metadata": {},
   "outputs": [],
   "source": [
    "# Si queremos modificar la lista lista_frutas = [\"manzana\", \"platano\", \"mango\", \"coco\"] \n",
    "# en este caso cambiar manzana por mandarina simplemente asignamos el valor de acuerdo al\n",
    "# indice en este caso 0\n",
    "lista_frutas[0]=\"mandarina\"\n",
    "print (lista_frutas)"
   ]
  },
  {
   "cell_type": "markdown",
   "id": "bb55b00d-8125-4cce-9a03-2a53beb7906a",
   "metadata": {},
   "source": [
    "### Métodos integrados en Python para el manejo de listas"
   ]
  },
  {
   "cell_type": "code",
   "execution_count": null,
   "id": "cb4b0f88-5cbf-403c-901d-b42aca098afa",
   "metadata": {},
   "outputs": [],
   "source": [
    "# El método append() añade un elemento al final de la lista.\n",
    "# Agregemos a list_rango=[1, 2, 3, 4, 5, 6, 7] el 8\n",
    "lista_rango.append(8)\n",
    "print (lista_rango)"
   ]
  },
  {
   "cell_type": "code",
   "execution_count": null,
   "id": "ae66ef9d-5562-44a8-b880-f5de197fa96e",
   "metadata": {},
   "outputs": [],
   "source": [
    "# El método insert() añade un elemento en una posición o índice determinado.\n",
    "# Vamos a insertar en lista_frutas en la posición 1 la fruta tamarindo\n",
    "lista_frutas.insert(1,\"tamarindo\")\n",
    "print (lista_frutas)"
   ]
  },
  {
   "cell_type": "code",
   "execution_count": null,
   "id": "252d8641-fd01-4a13-b30f-6ca10ab6628a",
   "metadata": {},
   "outputs": [],
   "source": [
    "# El método remove() recibe como argumento un objeto y lo borra de la lista.\n",
    "# Vamos a eliminar de lista_frutas platano\n",
    "lista_frutas.remove(\"platano\")\n",
    "print (lista_frutas)"
   ]
  },
  {
   "cell_type": "code",
   "execution_count": null,
   "id": "4a8a5b5a-c9cb-4be7-8c38-ecd2eb500637",
   "metadata": {},
   "outputs": [],
   "source": [
    "# El método pop() elimina por defecto el último elemento de la lista, pero si se \n",
    "# pasa como parámetro un índice permite borrar elementos diferentes al último.\n",
    "# Vamos a eliminar de lista_rango=[1, 2, 3, 4, 5, 6, 7, 8] el 5\n",
    "lista_rango.pop(4)\n",
    "print (lista_rango)"
   ]
  },
  {
   "cell_type": "code",
   "execution_count": null,
   "id": "17ec458f-fc33-441e-9802-10fbf956a9d6",
   "metadata": {},
   "outputs": [],
   "source": [
    "# El método sort() ordena los elementos de menos a mayor por defecto.\n",
    "# Y también permite ordenar de mayor a menor si se pasa como parámetro reverse=True.\n",
    "# vamos a ordenar lista_frutas primero de menor a mayor \n",
    "lista_frutas.sort()\n",
    "print (lista_frutas)"
   ]
  },
  {
   "cell_type": "code",
   "execution_count": null,
   "id": "d3a332bb-0c50-4058-93df-cb684be54a54",
   "metadata": {},
   "outputs": [],
   "source": [
    "# Ahora vamos a ordenar lista_frutas primero de mayor a menor\n",
    "lista_frutas.sort(reverse=True)\n",
    "print (lista_frutas)"
   ]
  },
  {
   "cell_type": "markdown",
   "id": "8267ca89-2cdb-4631-a98b-db840421a52d",
   "metadata": {},
   "source": [
    "\n",
    "## Ejercicio práctico"
   ]
  },
  {
   "cell_type": "code",
   "execution_count": null,
   "id": "350f64fe-b087-435e-bd15-45dbbc91daae",
   "metadata": {},
   "outputs": [],
   "source": [
    "# Crear un programa que permita crear y listar tareas o pendientes\n",
    "\n",
    "# Import para limpiar\n",
    "#from IPython.display import clear_output\n",
    "# Declaración de variables\n",
    "# Definimos una lista vacia de tareas\n",
    "lista_tareas = []\n",
    "# Definimos una variable que almacene la opcíon elegida\n",
    "opcion = 0\n",
    "\n",
    "# Estructura que se repite mientraz opcion sea disntinta de 3\n",
    "while opcion !=3 :\n",
    "    print (\"1. Ver tareas\")\n",
    "    print (\"2. Agregar tarea\")\n",
    "    print (\"3. Salir\")\n",
    "    #Se obtiene la opcion\n",
    "    opcion = int(input(\"Elige:\"))\n",
    "    #clear_output(wait=True)\n",
    "    # Estructura condicional para identificar la accion a tomar\n",
    "    if opcion == 1:\n",
    "        for tarea in lista_tareas:\n",
    "            print(f\"Tarea: {tarea}\")     \n",
    "    elif opcion == 2:\n",
    "        nueva_tarea = input (\"Introduce una tarea: \")\n",
    "        lista_tareas.append(nueva_tarea)"
   ]
  },
  {
   "cell_type": "markdown",
   "id": "d3170c92-a941-4ddd-a211-9410d6056eb9",
   "metadata": {},
   "source": [
    "## Recapitulación\n",
    "\n",
    "+ **En esta clase:**\n",
    "  + Establecimos como crear listas en Python y lo llevamos a cabo.\n",
    "  + Conocimos las operaciones básicas de una lista (creación, inserción, eliminación, acceso).\n",
    "  + Utilizamos algunos métodos integrados como lo son append(), remove(), insert(), pop() y sort()\n",
    "  + Mediante un logaritmo sencillo creamos un caso práctico de creación de una Lista de tareas.\n",
    "\n",
    "Finalmente si, por ejemplo, desarrollaramos una aplicación de gestión de tareas en un hospital, en particular donde cada paciente tiene una lista de medicamentos que deben administrarse en horarios específicos, ¿Uitilizarías las listas como estructura de datos para llevar el control de tareas? ¿Como lo harías si respondiste que si a la pregunta anterior?"
   ]
  },
  {
   "cell_type": "markdown",
   "id": "a87c1139-543a-4901-b18c-9a215169c935",
   "metadata": {
    "editable": true,
    "slideshow": {
     "slide_type": ""
    },
    "tags": []
   },
   "source": [
    "\n",
    " ## Bibliografía\n",
    "[1] Python Software Foundation, \"Data Structures,\" Python Documentation, 2023. [Online]. Link: https://docs.python.org/3/tutorial/datastructures.html. Accessed: Sep. 10, 2023.\n",
    "\n",
    "[2] E. Matthes, Python Crash Course, 2nd ed. San Francisco, CA, USA: No Starch Press, 2019.\n",
    "\n",
    "[3] L. Ramalho, Fluent Python, 2nd ed. Sebastopol, CA, USA: O’Reilly Media, 2022.\n",
    "\n",
    "[4] A. Sweigart, Automate the Boring Stuff with Python, 2nd ed. San Francisco, CA, USA: No Starch Press, 2020.\n",
    "\n",
    "[5] Real Python, \"Python Lists and Tuples,\" Real Python, 2023. [Enlina]. Link: https://realpython.com/python-lists-tuples/. Accessed: Sep. 10, 2023.\n",
    "\n",
    "[6] GeeksforGeeks, \"Python List,\" GeeksforGeeks, 2023. [Online]. Link: https://www.geeksforgeeks.org/python-list/. Accessed: Sep. 10, 2023.\n",
    "\n",
    "[7] W3Schools, \"Python Lists,\" W3Schools, 2023. [Online]. Link: https://www.w3schools.com/python/python_lists.asp. Accessed: Sep. 10, 2023.\n",
    "\n",
    "[8] M. T. Goodrich, R. Tamassia, and M. H. Goldwasser, Data Structures and Algorithms in Python. Hoboken, NJ, USA: Wiley, 2013.\n",
    "\n",
    "[9] B. N. Miller and D. L. Ranum, Problem Solving with Algorithms and Data Structures using Python, 2nd ed. Lutherville, MD, USA: Franklin Beedle & Associates, 2011.\n",
    "\n",
    "[10] DataCamp, \"Python List Cheat Sheet,\" DataCamp, 2023. [Online]. Link: https://www.datacamp.com/cheat-sheet/python-list-cheat-sheet. Accessed: Sep. 10, 2023.\n",
    "\n",
    "[11] C. Schafer, \"Python Lists Tutorial,\" YouTube, 2018. [Online]. Link: https://www.youtube.com/watch?v=tw7ror9x32s. Accessed: Sep. 10, 2023."
   ]
  }
 ],
 "metadata": {
  "kernelspec": {
   "display_name": "Python 3",
   "language": "python",
   "name": "python3"
  },
  "language_info": {
   "codemirror_mode": {
    "name": "ipython",
    "version": 3
   },
   "file_extension": ".py",
   "mimetype": "text/x-python",
   "name": "python",
   "nbconvert_exporter": "python",
   "pygments_lexer": "ipython3",
   "version": "3.13.2"
  }
 },
 "nbformat": 4,
 "nbformat_minor": 5
}
