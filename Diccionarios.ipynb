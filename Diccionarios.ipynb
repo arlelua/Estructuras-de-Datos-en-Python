{
 "cells": [
  {
   "cell_type": "markdown",
   "id": "f82a4186-1ab2-49e7-9141-a260ab57aa0b",
   "metadata": {
    "editable": true,
    "slideshow": {
     "slide_type": ""
    },
    "tags": []
   },
   "source": [
    "# Tema: Diccionario como estructura de datos en Python\n",
    "|Concepto|Descripción|\n",
    "|-:|:-|\n",
    "|Objetivo General:|Comprender el concepto, funcionamiento y aplicaciones prácticas de los diccionarios en Python para manipular datos de manera eficiente mediante pares **clave:valor**.|\n",
    "|Objetivos específicos:|**Definir un Diccionario**| \n",
    "| |**Identificar las operaciones básicas de un Diccionario (creación, acceso, modificación, eliminación).**|\n",
    "| |**Implementar los métodos disponibles para el Diccionario (append(), remove(), slice, etc.).**|\n",
    "| |**Aplicar diccionarios en un caso de uso real mediante código**|\n",
    "|Estrategia de Aprendizaje:|Aprendizaje activo.|\n",
    "|Técnica Instruccional:|Demostración guiada, práctica dirigida y analogías.|"
   ]
  },
  {
   "attachments": {},
   "cell_type": "markdown",
   "id": "702d8c94-f087-4ea0-ac19-4c5360f2b6ae",
   "metadata": {
    "editable": true,
    "slideshow": {
     "slide_type": ""
    },
    "tags": []
   },
   "source": [
    "## Definición de un Diccionario\n",
    "En muchos lenguajes de programación se presenta este concepto como **mapas o tablas hash**. Los diccionarios son colecciones de pares **clave:valor**, por un lado está la clave y por otro lado el valor que tiene esa clave, y tienen las siguientes características:\n",
    "\n",
    "+ Las **claves son únicas** en cada diccionario y deben ser **inmutables**.\n",
    "+ Las claves **permiten acceder al valor asociado** de forma eficiente.\n",
    "+ Los **valores pueden ser de cualquier tipo en Python**.\n",
    "\n",
    "<div style=\"text-align: center;\"><img src=\"\\imagenes notebooks\\diccionarios\\Diccionarios.jpg\" style=\"width:50%; height:auto;\" alt=\"Diccionarios en Python\"></div>\n",
    "\n",
    "**Nota: Los mapas en cualquier lenguaje de programación se implementan sin orden pero desde la versión 3.5, en Python los diccionarios están ordenados.**"
   ]
  },
  {
   "cell_type": "markdown",
   "id": "2061d61a-9939-4f28-8356-28f2b79431e0",
   "metadata": {
    "editable": true,
    "slideshow": {
     "slide_type": ""
    },
    "tags": []
   },
   "source": [
    "### Actividad\n",
    "¿Han usado algo similar a un diccionario en su día a día?"
   ]
  },
  {
   "cell_type": "markdown",
   "id": "0b31cf2b-e910-476d-9442-c6f573ee4933",
   "metadata": {
    "editable": true,
    "slideshow": {
     "slide_type": ""
    },
    "tags": []
   },
   "source": [
    "## Operaciones básicas con Diccionarios\n",
    "\n",
    "### Crear un Diccionario\n",
    "\n",
    "Los diccionarios se pueden crear con **corchetes {}** separando con una **coma** cada par **clave:valor**."
   ]
  },
  {
   "cell_type": "code",
   "execution_count": null,
   "id": "a4ae5f80-4fbb-475f-91c8-a7b67911e651",
   "metadata": {
    "editable": true,
    "slideshow": {
     "slide_type": ""
    },
    "tags": []
   },
   "outputs": [],
   "source": [
    "# Declarar el par clave-valor\n",
    "diccionario_archivo = {\n",
    "                        \"INE\": 1003882,\n",
    "                        \"Nombre\": \"Sara\",\n",
    "                        \"Edad\": 27\n",
    "                        }\n",
    "\n",
    "# Imprimimos el diccionario creado\n",
    "print(diccionario_archivo)"
   ]
  },
  {
   "cell_type": "markdown",
   "id": "e479ce0a-6225-4844-b2e0-16e5c2655a74",
   "metadata": {
    "editable": true,
    "slideshow": {
     "slide_type": ""
    },
    "tags": []
   },
   "source": [
    "Otra forma equivalente de crear un diccionario en Python es usando dict() e introduciendo los pares **clave,valor** entre paréntesis."
   ]
  },
  {
   "cell_type": "code",
   "execution_count": null,
   "id": "b997cc51-85c3-4e08-9c9d-632beed57e77",
   "metadata": {},
   "outputs": [],
   "source": [
    "# Declarar el par clave-valor\n",
    "diccionario_archivo2 = dict([\n",
    "                              ('INE', 1003882),\n",
    "                              ('Nombre', 'Sara'),\n",
    "                              ('Edad', 27)\n",
    "                              \n",
    "                            ])\n",
    "# Imprimimos el diccionario creado\n",
    "print(diccionario_archivo2)"
   ]
  },
  {
   "cell_type": "markdown",
   "id": "7efc4cb1-27bf-47da-8168-69d4d25872bd",
   "metadata": {},
   "source": [
    "También es posible usar el constructor **dict()** para crear un diccionario."
   ]
  },
  {
   "cell_type": "code",
   "execution_count": null,
   "id": "dff03630-3808-4fc4-881b-7a02dce0a002",
   "metadata": {},
   "outputs": [],
   "source": [
    "# Declarar el par clave-valor\n",
    "diccionario_archivo3 = dict(INE=1003882,\n",
    "                            Nombre='Sara',\n",
    "                            Edad=27)\n",
    "# Imprimimos el diccionario creado\n",
    "print(diccionario_archivo3)"
   ]
  },
  {
   "cell_type": "markdown",
   "id": "f944ee02-eebc-45fa-8f5e-7f6d0eb5ea02",
   "metadata": {},
   "source": [
    "\n",
    "## Pregunta Clave:\n",
    "**\"¿Qué pasaría si intentamos usar una lista como clave en un diccionario?\"**\n",
    "\n",
    "### Respuesta y Demostración:\n",
    "\n",
    "En Python, las claves de un diccionario deben ser tipos de datos inmutables (como strings, números o tuplas). Las listas **no pueden ser claves** porque son mutables (pueden modificarse después de su creación), lo que generaría inconsistencias en el hash interno del diccionario."
   ]
  },
  {
   "cell_type": "code",
   "execution_count": null,
   "id": "6a56456b-40c0-4bcd-9808-7238ef71fc64",
   "metadata": {},
   "outputs": [],
   "source": [
    "# Intentar usar una lista como clave  \n",
    "clave_lista = [\"id\", 101]  \n",
    "diccionario = {clave_lista: \"valor\"}"
   ]
  },
  {
   "cell_type": "markdown",
   "id": "c6e5abc3-80e3-4c3c-94fd-0ae4469d748c",
   "metadata": {},
   "source": [
    "### Explicación del Error:\n",
    "\n",
    "+ **\"Unhashable\"** significa que el objeto no puede convertirse en un valor hash único (requerido para las claves de diccionario).\n",
    "\n",
    "+ Las listas son mutables (ej. puedes agregar o eliminar elementos), por lo que su hash podría cambiar, rompiendo la integridad del diccionario.\n",
    "\n",
    "\n",
    "### Conclusión al caso planteado\n",
    "\n",
    "+ **Regla clave**: Las claves de diccionario deben ser **inmutables** para garantizar que el hash no cambie.\n",
    "\n",
    "+ **Alternativas válidas**: **str, int, float, tupla** (si contiene elementos inmutables).\n",
    "\n",
    "+ **Mala práctica**: Usar listas, diccionarios u otros tipos mutables como claves."
   ]
  },
  {
   "cell_type": "markdown",
   "id": "21fde3d9-c58c-4e53-a943-37e92ac5da2b",
   "metadata": {},
   "source": [
    "\n",
    "## Acceder a elementos del diccionario\n",
    "Se puede acceder a sus elementos con **[]** o también con la función **get()**"
   ]
  },
  {
   "cell_type": "code",
   "execution_count": null,
   "id": "4e9deebb-fd28-4d81-92f3-bf5ec3ea654b",
   "metadata": {},
   "outputs": [],
   "source": [
    "# Creamos el diccionario Capitales\n",
    "diccionario_capitales = {\n",
    "                        \"México\":\"Ciudad de México\",\n",
    "                        \"Estados Unidos Americanos\": \"Washington\",\n",
    "                        \"Canada\": \"Ontario\",\n",
    "                        \"Rusia\": \"Moscu\",\n",
    "                        \"China\": \"Beijing\"\n",
    "                        }\n",
    "# Utilizando []\n",
    "print(diccionario_capitales[\"Rusia\"])"
   ]
  },
  {
   "cell_type": "code",
   "execution_count": null,
   "id": "40731860-5a99-4ee4-894c-8522ade4d100",
   "metadata": {},
   "outputs": [],
   "source": [
    "# Utilizando la función get ()\n",
    "print(diccionario_capitales.get(\"Rusia\"))"
   ]
  },
  {
   "cell_type": "code",
   "execution_count": null,
   "id": "5703be61-8f7d-4cc8-bdcd-7526a7868fce",
   "metadata": {},
   "outputs": [],
   "source": [
    "# Suponiendo que no exitiera la llave\n",
    "print(diccionario_capitales.get(\"Cuba\")) # Devuelve None"
   ]
  },
  {
   "cell_type": "markdown",
   "id": "5a85e184-9f90-40fe-a81e-73cc99dbb7bd",
   "metadata": {},
   "source": [
    "### Modificar elementos del diccionario\n",
    "Para modificar un elemento basta con usar **[]** con el nombre del key y asignar el valor que queremos."
   ]
  },
  {
   "cell_type": "code",
   "execution_count": null,
   "id": "8ab8f14b-ab38-45ef-b69d-91ef781d4b22",
   "metadata": {},
   "outputs": [],
   "source": [
    "# Modificamos el elemento México\n",
    "diccionario_capitales[\"México\"]=\"México\"\n",
    "\n",
    "# Mostramos el diccionario\n",
    "print(diccionario_capitales)"
   ]
  },
  {
   "cell_type": "markdown",
   "id": "250f85a1-7544-4089-8a88-683e7162b3d4",
   "metadata": {},
   "source": [
    "Si el key al que accedemos **no existe**, se añade automáticamente."
   ]
  },
  {
   "cell_type": "code",
   "execution_count": null,
   "id": "7a8bd314-5be3-4856-85f1-d12db5227fc9",
   "metadata": {},
   "outputs": [],
   "source": [
    "# Agregamos el elemento Cuba y su Capital\n",
    "diccionario_capitales[\"Cuba\"]=\"Habana\"\n",
    "\n",
    "# Mostramos el diccionario\n",
    "print(diccionario_capitales)"
   ]
  },
  {
   "cell_type": "markdown",
   "id": "1d47c2e1-8d36-4193-b6e8-84649cb856b4",
   "metadata": {},
   "source": [
    "### Métodos integrados en Python para el manejo de diccionarios"
   ]
  },
  {
   "cell_type": "code",
   "execution_count": null,
   "id": "edda013e-2457-4c6f-a0d4-d9fdf381fa36",
   "metadata": {},
   "outputs": [],
   "source": [
    "# El método update() se llama sobre un diccionario y tiene como entrada otro diccionario. \n",
    "# Los value son actualizados y si alguna key del nuevo diccionario no esta, es añadida.\n",
    "\n",
    "# Creamos dos diccionarios\n",
    "diccionario_1= {\"a\": 1, \"b\": 2}\n",
    "diccionario_2= {\"a\": 0, \"d\": 400}\n",
    "# Llamos el método update del diccionario_1 actualizando con los pares clave:valor del diccionario_2\n",
    "diccionario_1.update(diccionario_2)\n",
    "\n",
    "# Imprimimos el diccionario actualizado\n",
    "print(diccionario_1)"
   ]
  },
  {
   "cell_type": "code",
   "execution_count": null,
   "id": "3545ff9a-1e94-41f3-b4ae-d5d88667d318",
   "metadata": {},
   "outputs": [],
   "source": [
    "# El método pop() busca y elimina la key que se pasa como parámetro y devuelve su valor asociado. \n",
    "# Daría un error si se intenta eliminar una key que no existe.\n",
    "\n",
    "#Eliminamos el par clave:valor de la letra d en diccionario_1\n",
    "diccionario_1.pop(\"d\")\n",
    "# Imprimimos el diccionario actualizado\n",
    "print(diccionario_1)"
   ]
  },
  {
   "cell_type": "code",
   "execution_count": null,
   "id": "de3d72fc-f989-4ce1-b20a-dc93fd2d1695",
   "metadata": {},
   "outputs": [],
   "source": [
    "# pop(<key>[,<default>]) \n",
    "# También se puede pasar un segundo parámetro que es el valor a devolver si la key no se ha encontrado.\n",
    "# En este caso si no se encuentra no habría error.\n",
    "#Eliminamos el par clave:valor de la letra d en diccionario_1\n",
    "diccionario_1.pop(\"d\")\n",
    "# Imprimimos el diccionario actualizado\n",
    "print(diccionario_1)"
   ]
  },
  {
   "cell_type": "code",
   "execution_count": null,
   "id": "8c289162-59f9-48ca-bc4b-e7425e7b5b40",
   "metadata": {},
   "outputs": [],
   "source": [
    "# El método popitem() elimina el último elemento del diccionario.\n",
    "# Utilizamos diccionario_2 = {\"a\": 0, \"d\": 400}\n",
    "# Para borrar el último par clave:valor\n",
    "diccionario_2.popitem()\n",
    "\n",
    "# Imprimimos el diccionario actualizado\n",
    "print(diccionario_2)"
   ]
  },
  {
   "cell_type": "code",
   "execution_count": null,
   "id": "9d40677c-e474-4636-ab48-7152f4afcfad",
   "metadata": {},
   "outputs": [],
   "source": [
    "# El método clear() elimina todo el contenido del diccionario.\n",
    "# Utilizamos diccionario_2 = {\"a\": 0}\n",
    "diccionario_2.clear()\n",
    "\n",
    "# Imprimimos el diccionario actualizado\n",
    "print(diccionario_2)"
   ]
  },
  {
   "cell_type": "code",
   "execution_count": null,
   "id": "d7beafdd-334a-44cc-90c8-2bdbad69e8a1",
   "metadata": {},
   "outputs": [],
   "source": [
    "# El método keys() devuelve una lista con todas las claves del diccionario.\n",
    "# Utilizamos el diccionario_capitales y una variable que contenga esas claves\n",
    "claves = diccionario_capitales.keys()\n",
    "\n",
    "# Imprimimos estas claves\n",
    "print (claves)"
   ]
  },
  {
   "cell_type": "code",
   "execution_count": null,
   "id": "1f85f6ec-aab4-4888-8ba7-fc039b109f46",
   "metadata": {},
   "outputs": [],
   "source": [
    "# Con un ciclo for podemos iterar en estas claves obtenidas e imprimirlas\n",
    "for claves in diccionario_capitales.keys():\n",
    "    print(claves)"
   ]
  },
  {
   "cell_type": "code",
   "execution_count": null,
   "id": "bac0c8fb-559c-43f9-95c1-8448b217fda9",
   "metadata": {},
   "outputs": [],
   "source": [
    "# El método values() devuelve una lista con todos los valores del diccionario.\n",
    "# Utilizamos el diccionario_capitales y una variable que contenga esos valores\n",
    "valores = diccionario_capitales.values()\n",
    "\n",
    "# Imprimimos estos valores\n",
    "print (valores)"
   ]
  },
  {
   "cell_type": "code",
   "execution_count": null,
   "id": "836e2cfb-64f7-406a-9544-d8d9f7f4a686",
   "metadata": {},
   "outputs": [],
   "source": [
    "# Con un ciclo for podemos iterar en estos valores obtenidos e imprimirlos\n",
    "for valores in diccionario_capitales.values():\n",
    "    print(valores)"
   ]
  },
  {
   "cell_type": "code",
   "execution_count": null,
   "id": "89caa7c8-c5b1-4fb1-a908-558ea7389583",
   "metadata": {},
   "outputs": [],
   "source": [
    "# El método items() devuelve una lista con las llaves y valores del diccionario. \n",
    "# Si se convierte en list se puede indexar como si de una lista normal se tratase, \n",
    "# siendo los primeros elementos las llaves y los segundos los valores.\n",
    "# Utilizamos el diccionario_capitales y una variable que contenga esos elementos\n",
    "elementos = diccionario_capitales.items()\n",
    "\n",
    "# Imprimimos estos elementos\n",
    "print (elementos)"
   ]
  },
  {
   "cell_type": "code",
   "execution_count": null,
   "id": "42be87de-3138-4c15-ba59-d48829815161",
   "metadata": {},
   "outputs": [],
   "source": [
    "# Con un ciclo for podemos iterar en estos elementos en pares clave:valor obtenidos e imprimirlos\n",
    "for llave,valor in diccionario_capitales.items():\n",
    "    print(f\"{llave}:{valor}\")"
   ]
  },
  {
   "cell_type": "markdown",
   "id": "ec4cb934-f9a8-4551-a6ed-2c27b6160d4c",
   "metadata": {},
   "source": [
    "\n",
    "## Ejercicio práctico"
   ]
  },
  {
   "cell_type": "code",
   "execution_count": 1,
   "id": "226c8922-cd56-49ca-909b-1f67ab5b58a6",
   "metadata": {},
   "outputs": [
    {
     "name": "stdout",
     "output_type": "stream",
     "text": [
      "Chatbot: ¡Bienvenido!\n",
      "Chatbot:no entiendo\n",
      "Chatbot:no entiendo\n",
      "Chatbot:!Hola¡ ¿Cómo te puedo ayudar?\n",
      "Chatbot:!Hola¡ ¿Cómo te puedo ayudar?\n",
      "Chatbot: ¡Adiós!\n"
     ]
    }
   ],
   "source": [
    "# Simula un Chatbot básico que responda preguntas simples\n",
    "\n",
    "# Base de Conocimientos del Chatbot usando diccionario\n",
    "reglas = {\n",
    "            \"hola\": \"!Hola¡ ¿Cómo te puedo ayudar?\",\n",
    "            \"adiós\": \"!Hasta luego¡\",\n",
    "            \"¿cómo estás?\": \"Estoy listo para ayudarte\",\n",
    "            \"gracias\" : \"De nada, !que tengas un excelente día¡\"\n",
    "}\n",
    "\n",
    "# Función de Chatbot\n",
    "def chatbot():\n",
    "    print(\"Chatbot: ¡Bienvenido!\")\n",
    "    # Bucle de interación \n",
    "    while True:\n",
    "                        # El método strip() elimina a la izquierda y derecha el carácter que se le introduce. \n",
    "                        # Si se llama sin parámetros elimina los espacios. \n",
    "                        # El método lower() convierte todos los caracteres\n",
    "                        # alfabéticos en minúscula.\n",
    "        entrada_usuario = input(\"Tú: \").strip().lower()\n",
    "        # Verificamos si desea salir el usuario\n",
    "        if entrada_usuario == \"salir\":\n",
    "            # Chatbot se despide\n",
    "            print(\"Chatbot: ¡Adiós!\")\n",
    "            # Rompemos el ciclo\n",
    "            break\n",
    "        # Verificamos en la base de conocimiento por la respuesta\n",
    "        respuesta = reglas.get(entrada_usuario, \"no entiendo\")\n",
    "        print(f\"Chatbot:{respuesta}\")\n",
    "\n",
    "# LLamar a la función\n",
    "chatbot()"
   ]
  }
 ],
 "metadata": {
  "kernelspec": {
   "display_name": "Python 3",
   "language": "python",
   "name": "python3"
  },
  "language_info": {
   "codemirror_mode": {
    "name": "ipython",
    "version": 3
   },
   "file_extension": ".py",
   "mimetype": "text/x-python",
   "name": "python",
   "nbconvert_exporter": "python",
   "pygments_lexer": "ipython3",
   "version": "3.13.2"
  }
 },
 "nbformat": 4,
 "nbformat_minor": 5
}
